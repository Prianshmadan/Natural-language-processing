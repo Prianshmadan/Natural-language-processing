{
  "nbformat": 4,
  "nbformat_minor": 0,
  "metadata": {
    "colab": {
      "provenance": []
    },
    "kernelspec": {
      "name": "python3",
      "display_name": "Python 3"
    },
    "language_info": {
      "name": "python"
    }
  },
  "cells": [
    {
      "cell_type": "markdown",
      "source": [
        "**AMNA PATEL**\n",
        "\n",
        "**E-22**\n",
        "\n",
        "NLP **PRACTICAL** **7**"
      ],
      "metadata": {
        "id": "zs8_kS4gBhuU"
      }
    },
    {
      "cell_type": "code",
      "source": [
        "from sklearn.feature_extraction.text import TfidfVectorizer #Importing the Dependencies"
      ],
      "metadata": {
        "id": "o5DSEufGBKyz"
      },
      "execution_count": null,
      "outputs": []
    },
    {
      "cell_type": "code",
      "source": [
        "vectorizer = TfidfVectorizer(stop_words='english', smooth_idf=True) #Creating Vectorizer Object"
      ],
      "metadata": {
        "id": "ATQcHlWaBM2T"
      },
      "execution_count": null,
      "outputs": []
    },
    {
      "cell_type": "code",
      "source": [
        "text = \"\"\"It was the best of times it was the worst of times it was the age of wisdom it was the age of foolishness,\"\"\"\n",
        "\n",
        "text_vector = set(text.split(\" \"))\n",
        "\n",
        "text_vector"
      ],
      "metadata": {
        "colab": {
          "base_uri": "https://localhost:8080/"
        },
        "id": "ZnpiJet7BNkK",
        "outputId": "d23b86aa-6aed-4a77-984e-5b88f526fa6e"
      },
      "execution_count": null,
      "outputs": [
        {
          "output_type": "execute_result",
          "data": {
            "text/plain": [
              "{'It',\n",
              " 'age',\n",
              " 'best',\n",
              " 'foolishness,',\n",
              " 'it',\n",
              " 'of',\n",
              " 'the',\n",
              " 'times',\n",
              " 'was',\n",
              " 'wisdom',\n",
              " 'worst'}"
            ]
          },
          "metadata": {},
          "execution_count": 3
        }
      ]
    },
    {
      "cell_type": "code",
      "source": [
        "input_matrix = vectorizer.fit_transform(text_vector)\n",
        "print(input_matrix)"
      ],
      "metadata": {
        "colab": {
          "base_uri": "https://localhost:8080/"
        },
        "id": "QSJ3XpYuBRnj",
        "outputId": "fea67346-1734-4049-ef02-1d1f8791c086"
      },
      "execution_count": null,
      "outputs": [
        {
          "output_type": "stream",
          "name": "stdout",
          "text": [
            "  (1, 2)\t1.0\n",
            "  (4, 0)\t1.0\n",
            "  (5, 4)\t1.0\n",
            "  (6, 1)\t1.0\n",
            "  (8, 3)\t1.0\n",
            "  (9, 5)\t1.0\n"
          ]
        }
      ]
    },
    {
      "cell_type": "code",
      "source": [
        "input_matrix = vectorizer.fit_transform(text_vector).todense()\n",
        "\n",
        "input_matrix"
      ],
      "metadata": {
        "colab": {
          "base_uri": "https://localhost:8080/"
        },
        "id": "M7Rndz-lBPm7",
        "outputId": "d97471e2-7fd8-4470-80fb-e1c94aef92ba"
      },
      "execution_count": null,
      "outputs": [
        {
          "output_type": "execute_result",
          "data": {
            "text/plain": [
              "matrix([[0., 0., 0., 0., 0., 0.],\n",
              "        [0., 0., 1., 0., 0., 0.],\n",
              "        [0., 0., 0., 0., 0., 0.],\n",
              "        [0., 0., 0., 0., 0., 0.],\n",
              "        [1., 0., 0., 0., 0., 0.],\n",
              "        [0., 0., 0., 0., 1., 0.],\n",
              "        [0., 1., 0., 0., 0., 0.],\n",
              "        [0., 0., 0., 0., 0., 0.],\n",
              "        [0., 0., 0., 1., 0., 0.],\n",
              "        [0., 0., 0., 0., 0., 1.],\n",
              "        [0., 0., 0., 0., 0., 0.]])"
            ]
          },
          "metadata": {},
          "execution_count": 5
        }
      ]
    },
    {
      "cell_type": "code",
      "source": [],
      "metadata": {
        "id": "BoXImDztBe48"
      },
      "execution_count": null,
      "outputs": []
    }
  ]
}