{
 "cells": [
  {
   "attachments": {},
   "cell_type": "markdown",
   "metadata": {},
   "source": [
    "#### Priansh Madan \n",
    "#### 58\n",
    "#### E4"
   ]
  },
  {
   "cell_type": "code",
   "execution_count": 1,
   "metadata": {},
   "outputs": [],
   "source": [
    "import nltk"
   ]
  },
  {
   "cell_type": "code",
   "execution_count": 38,
   "metadata": {},
   "outputs": [
    {
     "name": "stdout",
     "output_type": "stream",
     "text": [
      "Word                Porter Stemmer      Snowball Stemmer    Lancaster Stemmer             Regexp Stemmer                          Lemmetization                                     \n",
      "run                 run                 run                 run                           run                                     run                                               \n",
      "runner              runner              runner              run                           runner                                  runner                                            \n",
      "swim                swim                swim                swim                          swim                                    swim                                              \n",
      "swimmer             swimmer             swimmer             swim                          swimmer                                 swimmer                                           \n",
      "jump                jump                jump                jump                          jump                                    jump                                              \n",
      "jumper              jumper              jumper              jump                          jumper                                  jumper                                            \n",
      "talk                talk                talk                talk                          talk                                    talk                                              \n",
      "speaker             speaker             speaker             speak                         speaker                                 speaker                                           \n",
      "eat                 eat                 eat                 eat                           eat                                     eat                                               \n",
      "eater               eater               eater               eat                           eater                                   eater                                             \n",
      "writer              writer              writer              writ                          writer                                  writer                                            \n",
      "sing                sing                sing                sing                          s                                       sing                                              \n",
      "singer              singer              singer              sing                          singer                                  singer                                            \n",
      "dance               danc                danc                dant                          danc                                    dance                                             \n",
      "dancer              dancer              dancer              dant                          dancer                                  dancer                                            \n",
      "think               think               think               think                         think                                   think                                             \n",
      "thinker             thinker             thinker             think                         thinker                                 thinker                                           \n",
      "happy               happi               happi               happy                         happy                                   happy                                             \n",
      "happiness           happi               happi               happy                         happines                                happiness                                         \n",
      "sad                 sad                 sad                 sad                           sad                                     sad                                               \n",
      "sadness             sad                 sad                 sad                           sadnes                                  sadness                                           \n",
      "fast                fast                fast                fast                          fast                                    fast                                              \n",
      "faster              faster              faster              fast                          faster                                  faster                                            \n",
      "slow                slow                slow                slow                          slow                                    slow                                              \n",
      "slower              slower              slower              slow                          slower                                  slower                                            \n",
      "easy                easi                easi                easy                          easy                                    easy                                              \n",
      "easier              easier              easier              easy                          easier                                  easier                                            \n",
      "difficult           difficult           difficult           difficult                     difficult                               difficult                                         \n",
      "difficulty          difficulti          difficulti          difficul                      difficulty                              difficulty                                        \n",
      "talk                talk                talk                talk                          talk                                    talk                                              \n",
      "talking             talk                talk                talk                          talk                                    talking                                           \n",
      "talked              talk                talk                talk                          talked                                  talked                                            \n",
      "write               write               write               writ                          writ                                    write                                             \n",
      "writing             write               write               writ                          writ                                    writing                                           \n",
      "wrote               wrote               wrote               wrot                          wrot                                    wrote                                             \n",
      "sing                sing                sing                sing                          s                                       sing                                              \n",
      "singing             sing                sing                sing                          sing                                    singing                                           \n",
      "sang                sang                sang                sang                          sang                                    sang                                              \n",
      "dance               danc                danc                dant                          danc                                    dance                                             \n",
      "dancing             danc                danc                dant                          danc                                    dancing                                           \n",
      "danced              danc                danc                dant                          danced                                  danced                                            \n",
      "think               think               think               think                         think                                   think                                             \n",
      "thinking            think               think               think                         think                                   thinking                                          \n",
      "thought             thought             thought             thought                       thought                                 thought                                           \n",
      "cats                cat                 cat                 cat                           cat                                     cat                                               \n",
      "catty               catti               catti               catty                         catty                                   catty                                             \n",
      "catlike             catlik              catlik              catlik                        catlik                                  catlike                                           \n",
      "kittens             kitten              kitten              kit                           kitten                                  kitten                                            \n",
      "programmer          programm            programm            program                       programmer                              programmer                                        \n",
      "programme           programm            programm            program                       programm                                programme                                         \n",
      "programs            program             program             program                       program                                 program                                           \n",
      "programming         program             program             program                       programm                                programming                                       \n"
     ]
    }
   ],
   "source": [
    "from nltk.stem.lancaster import LancasterStemmer\n",
    "from nltk.stem.snowball import SnowballStemmer\n",
    "from nltk.stem import PorterStemmer \n",
    "from nltk.tokenize import word_tokenize\n",
    "from nltk.stem import RegexpStemmer\n",
    "regexp = RegexpStemmer('ing$|s$|e$|able$', min=4)\n",
    "porter_stemmer = PorterStemmer()\n",
    "snowball_stemmer = SnowballStemmer(\"english\")\n",
    "Lanc_stemmer = LancasterStemmer()\n",
    "from nltk.stem import WordNetLemmatizer\n",
    "wnl = WordNetLemmatizer()\n",
    "\n",
    "words = [\"run\", \"runner\", \"swim\", \"swimmer\", \"jump\", \"jumper\", \"talk\", \"speaker\", \"eat\", \"eater\", \"writer\", \"sing\", \"singer\", \"dance\", \"dancer\", \"think\", \"thinker\", \"happy\", \"happiness\", \"sad\", \"sadness\", \"fast\", \"faster\", \"slow\", \"slower\", \"easy\", \"easier\", \"difficult\", \"difficulty\", \"talk\", \"talking\", \"talked\",\"write\", \"writing\", \"wrote\", \"sing\", \"singing\", \"sang\", \"dance\", \"dancing\", \"danced\", \"think\", \"thinking\", \"thought\",\"cats\", \"catty\", \"catlike\",\"kittens\",\"programmer\",\"programme\",\"programs\",\"programming\"]\n",
    "print(\"{0:20}{1:20}{2:20}{3:30}{4:40}{5:50}\".format(\"Word\",\"Porter Stemmer\",\"Snowball Stemmer\",\"Lancaster Stemmer\",'Regexp Stemmer','Lemmetization'))\n",
    "for word in words:\n",
    "    print(\"{0:20}{1:20}{2:20}{3:30}{4:40}{5:50}\".format(word,porter_stemmer.stem(word),snowball_stemmer.stem(word),Lanc_stemmer.stem(word),regexp.stem(word),wnl.lemmatize(word)))\n"
   ]
  },
  {
   "attachments": {},
   "cell_type": "markdown",
   "metadata": {},
   "source": [
    "##### using spacey"
   ]
  },
  {
   "cell_type": "code",
   "execution_count": 48,
   "metadata": {},
   "outputs": [],
   "source": [
    "import spacy"
   ]
  },
  {
   "cell_type": "code",
   "execution_count": 54,
   "metadata": {},
   "outputs": [
    {
     "name": "stdout",
     "output_type": "stream",
     "text": [
      "['run', 'runner', 'swim', 'swimmer', 'jump', 'jumper', 'talk', 'speaker', 'eat', 'eater', 'writer', 'sing', 'singer', 'dance', 'dancer', 'think', 'thinker', 'happy', 'happiness', 'sad', 'sadness', 'fast', 'fast', 'slow', 'slow', 'easy', 'easy', 'difficult', 'difficulty', 'talk', 'talk', 'talk', 'write', 'writing', 'write', 'sing', 'singing', 'sing', 'dance', 'dancing', 'dance', 'think', 'thinking', 'think', 'cat', 'catty', 'catlike', 'kittens', 'programmer', 'programme', 'program', 'program']\n"
     ]
    }
   ],
   "source": [
    "import spacy\n",
    "nlp = spacy.load(\"en_core_web_sm\")\n",
    "string=''\n",
    "words = [\"run\", \"runner\", \"swim\", \"swimmer\", \"jump\", \"jumper\", \"talk\", \"speaker\", \"eat\", \"eater\", \"writer\", \"sing\", \"singer\", \"dance\", \"dancer\", \"think\", \"thinker\", \"happy\", \"happiness\", \"sad\", \"sadness\", \"fast\", \"faster\", \"slow\", \"slower\", \"easy\", \"easier\", \"difficult\", \"difficulty\", \"talk\", \"talking\", \"talked\",\"write\", \"writing\", \"wrote\", \"sing\", \"singing\", \"sang\", \"dance\", \"dancing\", \"danced\", \"think\", \"thinking\", \"thought\",\"cats\", \"catty\", \"catlike\",\"kittens\",\"programmer\",\"programme\",\"programs\",\"programming\"]\n",
    "for word in words:\n",
    "  string+=word\n",
    "  string+=' '\n",
    "doc = nlp(string)\n",
    "empty_list = []\n",
    "for token in doc:\n",
    "    empty_list.append(token.lemma_)\n",
    "\n",
    "final_string = ' '.join(map(str,empty_list))\n",
    "final_arr=final_string.split(' ')\n",
    "print(final_arr)"
   ]
  },
  {
   "attachments": {},
   "cell_type": "markdown",
   "metadata": {},
   "source": [
    "#### 4B.]"
   ]
  },
  {
   "cell_type": "code",
   "execution_count": 7,
   "metadata": {},
   "outputs": [
    {
     "name": "stdout",
     "output_type": "stream",
     "text": [
      "walks\n",
      "walked\n"
     ]
    }
   ],
   "source": [
    "\n",
    "from statemachine import StateMachine, State\n",
    "\n",
    "class WordGenerator(StateMachine):\n",
    "    root_state = State('Root', initial=True)\n",
    "    plural = State('Plural')\n",
    "    past_tense = State('Past Tense')\n",
    "\n",
    "    add_s = root_state.to(plural)\n",
    "    add_ed = root_state.to(past_tense)\n",
    "    reset = plural.to(root_state) | past_tense.to(root_state)\n",
    "\n",
    "    def __init__(self, root):\n",
    "        self.root = root\n",
    "        self.surface_form = root\n",
    "        super().__init__()\n",
    "\n",
    "    def on_enter_plural(self):\n",
    "        self.surface_form = self.root + 's'\n",
    "\n",
    "    def on_enter_past_tense(self):\n",
    "        self.surface_form = self.root + 'ed'\n",
    "\n",
    "    def on_enter_root_state(self):\n",
    "        self.surface_form = self.root\n",
    "\n",
    "word = WordGenerator('walk')\n",
    "word.add_s()\n",
    "print(word.surface_form) # walks\n",
    "word.reset()\n",
    "word.add_ed()\n",
    "print(word.surface_form)"
   ]
  },
  {
   "cell_type": "code",
   "execution_count": null,
   "metadata": {},
   "outputs": [],
   "source": []
  }
 ],
 "metadata": {
  "kernelspec": {
   "display_name": "Python 3",
   "language": "python",
   "name": "python3"
  },
  "language_info": {
   "codemirror_mode": {
    "name": "ipython",
    "version": 3
   },
   "file_extension": ".py",
   "mimetype": "text/x-python",
   "name": "python",
   "nbconvert_exporter": "python",
   "pygments_lexer": "ipython3",
   "version": "3.10.2"
  },
  "orig_nbformat": 4
 },
 "nbformat": 4,
 "nbformat_minor": 2
}
