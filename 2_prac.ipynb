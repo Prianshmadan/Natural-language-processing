{
 "cells": [
  {
   "cell_type": "code",
   "execution_count": 5,
   "metadata": {},
   "outputs": [
    {
     "name": "stdout",
     "output_type": "stream",
     "text": [
      "Number of male names: 2943\n",
      "Number of female names: 5001\n",
      "\n",
      "First 10 male names:\n",
      "['Aamir', 'Aaron', 'Abbey', 'Abbie', 'Abbot', 'Abbott', 'Abby', 'Abdel', 'Abdul', 'Abdulkarim']\n",
      "\n",
      "First 10 female names:\n",
      "['Abagael', 'Abagail', 'Abbe', 'Abbey', 'Abbi', 'Abbie', 'Abby', 'Abigael', 'Abigail', 'Abigale']\n"
     ]
    }
   ],
   "source": [
    "from nltk.corpus import names \n",
    "\n",
    "male = names.words('male.txt')\n",
    "num_male_names = len(male)\n",
    "print(f\"Number of male names: {num_male_names}\")\n",
    "\n",
    "female= names.words('female.txt')\n",
    "num_female_names = len(female)\n",
    "print(f\"Number of female names: {num_female_names}\")\n",
    "\n",
    "print(\"\\nFirst 10 male names:\")\n",
    "print(male[:10])\n",
    "\n",
    "print(\"\\nFirst 10 female names:\")\n",
    "print(female[:10])"
   ]
  },
  {
   "cell_type": "code",
   "execution_count": 3,
   "metadata": {},
   "outputs": [
    {
     "name": "stdout",
     "output_type": "stream",
     "text": [
      "First 15 random labeled combined names:\n",
      "[('Stefa', 'female'), ('Zabrina', 'female'), ('Bonni', 'female'), ('Alta', 'female'), ('Trista', 'female'), ('Audy', 'female'), ('Clare', 'male'), ('Jess', 'male'), ('Cris', 'female'), ('Adolpho', 'male'), ('Jerry', 'male'), ('Ede', 'female'), ('Cy', 'male'), ('Evie', 'female'), ('Giorgi', 'male')]\n"
     ]
    }
   ],
   "source": [
    "from nltk.corpus import names \n",
    "import random \n",
    " \n",
    "male_names = names.words('male.txt')\n",
    "female_names = names.words('female.txt')\n",
    " \n",
    "labeled_male_names = [(str(name), 'male') for name in male_names]\n",
    "labeled_female_names = [(str(name), 'female') for name in female_names]\n",
    "labeled_all_names = labeled_male_names + labeled_female_names\n",
    " \n",
    "random.shuffle(labeled_all_names)\n",
    " \n",
    "print(\"First 15 random labeled combined names:\")\n",
    "print (labeled_all_names[:15])"
   ]
  },
  {
   "cell_type": "code",
   "execution_count": null,
   "metadata": {},
   "outputs": [],
   "source": []
  }
 ],
 "metadata": {
  "kernelspec": {
   "display_name": "Python 3",
   "language": "python",
   "name": "python3"
  },
  "language_info": {
   "codemirror_mode": {
    "name": "ipython",
    "version": 3
   },
   "file_extension": ".py",
   "mimetype": "text/x-python",
   "name": "python",
   "nbconvert_exporter": "python",
   "pygments_lexer": "ipython3",
   "version": "3.10.2"
  },
  "orig_nbformat": 4
 },
 "nbformat": 4,
 "nbformat_minor": 2
}
