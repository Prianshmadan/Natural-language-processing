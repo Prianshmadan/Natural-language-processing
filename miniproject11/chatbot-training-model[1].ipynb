{
 "cells": [
  {
   "cell_type": "markdown",
   "metadata": {},
   "source": [
    "This notebook is pre trained model for creating chatbot with good accuracy for this dataset. However, Accuracy range will be different.\n",
    "\n",
    "You can add dataset with .csv file. But, you need to transfer your data json file into csv file format using python script. I tried it but don't seem to have converted successfully."
   ]
  },
  {
   "cell_type": "markdown",
   "metadata": {},
   "source": [
    "## **Import and load the data file**"
   ]
  },
  {
   "cell_type": "markdown",
   "metadata": {},
   "source": [
    "We import the necessary packages for our chatbot and initialize the variables we will use in our Python project.\n",
    "The data file is in JSON format so we used the json package to parse the JSON file into Python."
   ]
  },
  {
   "cell_type": "code",
   "execution_count": 1,
   "metadata": {
    "execution": {
     "iopub.execute_input": "2023-02-23T04:28:15.808547Z",
     "iopub.status.busy": "2023-02-23T04:28:15.807684Z",
     "iopub.status.idle": "2023-02-23T04:28:18.220607Z",
     "shell.execute_reply": "2023-02-23T04:28:18.219556Z",
     "shell.execute_reply.started": "2023-02-23T04:28:15.808427Z"
    },
    "id": "09b08e4f",
    "outputId": "930efa0a-cb9d-4527-d869-6b432af79909"
   },
   "outputs": [
    {
     "name": "stderr",
     "output_type": "stream",
     "text": [
      "[nltk_data] Downloading package punkt to\n",
      "[nltk_data]     C:\\Users\\91937\\AppData\\Roaming\\nltk_data...\n",
      "[nltk_data]   Package punkt is already up-to-date!\n"
     ]
    },
    {
     "data": {
      "text/plain": [
       "True"
      ]
     },
     "execution_count": 1,
     "metadata": {},
     "output_type": "execute_result"
    }
   ],
   "source": [
    "import nltk\n",
    "nltk.download('punkt')#Sentence tokenizer"
   ]
  },
  {
   "cell_type": "code",
   "execution_count": 2,
   "metadata": {
    "execution": {
     "iopub.execute_input": "2023-02-23T04:28:18.223744Z",
     "iopub.status.busy": "2023-02-23T04:28:18.222792Z",
     "iopub.status.idle": "2023-02-23T04:28:18.230987Z",
     "shell.execute_reply": "2023-02-23T04:28:18.229778Z",
     "shell.execute_reply.started": "2023-02-23T04:28:18.223696Z"
    },
    "id": "37932349"
   },
   "outputs": [],
   "source": [
    "import nltk\n",
    "from nltk.stem import WordNetLemmatizer\n",
    "lemmatizer = WordNetLemmatizer()\n",
    "import json\n",
    "import pickle\n",
    "import warnings\n",
    "warnings.filterwarnings('ignore')"
   ]
  },
  {
   "cell_type": "code",
   "execution_count": 3,
   "metadata": {
    "execution": {
     "iopub.execute_input": "2023-02-23T04:28:18.232735Z",
     "iopub.status.busy": "2023-02-23T04:28:18.232368Z",
     "iopub.status.idle": "2023-02-23T04:28:27.967378Z",
     "shell.execute_reply": "2023-02-23T04:28:27.966058Z",
     "shell.execute_reply.started": "2023-02-23T04:28:18.232704Z"
    },
    "id": "29f7ae99"
   },
   "outputs": [],
   "source": [
    "import numpy as np\n",
    "import tensorflow as tf\n",
    "from keras.models import Sequential\n",
    "from keras.layers import Dense, Activation, Dropout\n",
    "from tensorflow.keras.optimizers import SGD\n",
    "import random"
   ]
  },
  {
   "cell_type": "markdown",
   "metadata": {
    "id": "0ec5134c"
   },
   "source": [
    "# **Preprocessing**"
   ]
  },
  {
   "cell_type": "code",
   "execution_count": 6,
   "metadata": {
    "execution": {
     "iopub.execute_input": "2023-02-23T04:28:27.970415Z",
     "iopub.status.busy": "2023-02-23T04:28:27.969767Z",
     "iopub.status.idle": "2023-02-23T04:28:27.995402Z",
     "shell.execute_reply": "2023-02-23T04:28:27.994291Z",
     "shell.execute_reply.started": "2023-02-23T04:28:27.970381Z"
    },
    "id": "2a27b3fe"
   },
   "outputs": [],
   "source": [
    "words=[]\n",
    "classes = []\n",
    "documents = []\n",
    "ignore_words = ['?', '!']\n",
    "data_file = open('intents.json').read() # read json file\n",
    "intents = json.loads(data_file) # load json file"
   ]
  },
  {
   "cell_type": "markdown",
   "metadata": {},
   "source": [
    "When working with text data, we need to perform various preprocessing on the data before we make a machine learning or a deep learning model. Based on the requirements we need to apply various operations to preprocess the \n",
    "data.\n",
    "- Tokenizing is the most basic and first thing you can do on text data. \n",
    "- Tokenizing is the process of breaking the whole text into small parts like words.\n",
    "- Here we iterate through the patterns and tokenize the sentence using nltk.word_tokenize() function and append each word in the words list. We also create a list of classes for our tags."
   ]
  },
  {
   "cell_type": "code",
   "execution_count": 7,
   "metadata": {
    "execution": {
     "iopub.execute_input": "2023-02-23T04:28:27.997609Z",
     "iopub.status.busy": "2023-02-23T04:28:27.996939Z",
     "iopub.status.idle": "2023-02-23T04:28:28.054065Z",
     "shell.execute_reply": "2023-02-23T04:28:28.052862Z",
     "shell.execute_reply.started": "2023-02-23T04:28:27.997575Z"
    },
    "id": "d1fce670"
   },
   "outputs": [],
   "source": [
    "for intent in intents['intents']:\n",
    "    for pattern in intent['patterns']:\n",
    "        #tokenize each word\n",
    "        w = nltk.word_tokenize(pattern)\n",
    "        words.extend(w)# add each elements into list\n",
    "        #combination between patterns and intents\n",
    "        documents.append((w, intent['tag']))#add single element into end of list\n",
    "        # add to tag in our classes list\n",
    "        if intent['tag'] not in classes:\n",
    "            classes.append(intent['tag'])"
   ]
  },
  {
   "cell_type": "code",
   "execution_count": 8,
   "metadata": {
    "execution": {
     "iopub.execute_input": "2023-02-23T04:28:28.055883Z",
     "iopub.status.busy": "2023-02-23T04:28:28.055541Z",
     "iopub.status.idle": "2023-02-23T04:28:28.156013Z",
     "shell.execute_reply": "2023-02-23T04:28:28.154892Z",
     "shell.execute_reply.started": "2023-02-23T04:28:28.055853Z"
    },
    "id": "caf5ffe1",
    "outputId": "97496bb7-e2d7-4243-d2a7-b7512e192458"
   },
   "outputs": [
    {
     "name": "stderr",
     "output_type": "stream",
     "text": [
      "[nltk_data] Downloading package wordnet to\n",
      "[nltk_data]     C:\\Users\\91937\\AppData\\Roaming\\nltk_data...\n",
      "[nltk_data]   Package wordnet is already up-to-date!\n"
     ]
    },
    {
     "data": {
      "text/plain": [
       "True"
      ]
     },
     "execution_count": 8,
     "metadata": {},
     "output_type": "execute_result"
    }
   ],
   "source": [
    "nltk.download('wordnet') #lexical database for the English language"
   ]
  },
  {
   "cell_type": "code",
   "execution_count": 9,
   "metadata": {
    "execution": {
     "iopub.execute_input": "2023-02-23T04:28:28.159667Z",
     "iopub.status.busy": "2023-02-23T04:28:28.159329Z",
     "iopub.status.idle": "2023-02-23T04:28:28.552572Z",
     "shell.execute_reply": "2023-02-23T04:28:28.551366Z",
     "shell.execute_reply.started": "2023-02-23T04:28:28.159639Z"
    },
    "id": "1bdda46f",
    "outputId": "52603b6e-b9b7-4de9-b8ae-16edbdceea76"
   },
   "outputs": [
    {
     "name": "stderr",
     "output_type": "stream",
     "text": [
      "[nltk_data] Downloading package omw-1.4 to\n",
      "[nltk_data]     C:\\Users\\91937\\AppData\\Roaming\\nltk_data...\n",
      "[nltk_data]   Package omw-1.4 is already up-to-date!\n"
     ]
    },
    {
     "data": {
      "text/plain": [
       "True"
      ]
     },
     "execution_count": 9,
     "metadata": {},
     "output_type": "execute_result"
    }
   ],
   "source": [
    "nltk.download('omw-1.4')"
   ]
  },
  {
   "cell_type": "markdown",
   "metadata": {},
   "source": [
    "Now we will lemmatize each word and remove duplicate words from the list. \n",
    "- Lemmatizing is the process of converting a word into its lemma form and then creating a pickle file to store the Python objects which we will use while predicting."
   ]
  },
  {
   "cell_type": "code",
   "execution_count": 10,
   "metadata": {
    "execution": {
     "iopub.execute_input": "2023-02-23T04:28:28.554688Z",
     "iopub.status.busy": "2023-02-23T04:28:28.554352Z",
     "iopub.status.idle": "2023-02-23T04:28:30.712822Z",
     "shell.execute_reply": "2023-02-23T04:28:30.711374Z",
     "shell.execute_reply.started": "2023-02-23T04:28:28.554659Z"
    },
    "id": "6dbaf343",
    "outputId": "155e2bb5-52bc-4273-f968-767921210285"
   },
   "outputs": [
    {
     "name": "stdout",
     "output_type": "stream",
     "text": [
      "405 documents\n",
      " [(['Hi'], 'greeting'), (['How', 'are', 'you', '?'], 'greeting'), (['Is', 'anyone', 'there', '?'], 'greeting'), (['Hello'], 'greeting'), (['Good', 'day'], 'greeting'), (['What', \"'s\", 'up'], 'greeting'), (['how', 'are', 'ya'], 'greeting'), (['heyy'], 'greeting'), (['whatsup'], 'greeting'), (['?', '?', '?', '?', '?', '?', '?', '?'], 'greeting'), (['cya'], 'goodbye'), (['see', 'you'], 'goodbye'), (['bye', 'bye'], 'goodbye'), (['See', 'you', 'later'], 'goodbye'), (['Goodbye'], 'goodbye'), (['I', 'am', 'Leaving'], 'goodbye'), (['Bye'], 'goodbye'), (['Have', 'a', 'Good', 'day'], 'goodbye'), (['talk', 'to', 'you', 'later'], 'goodbye'), (['ttyl'], 'goodbye'), (['i', 'got', 'to', 'go'], 'goodbye'), (['gtg'], 'goodbye'), (['what', 'is', 'the', 'name', 'of', 'your', 'developers'], 'creator'), (['what', 'is', 'the', 'name', 'of', 'your', 'creators'], 'creator'), (['what', 'is', 'the', 'name', 'of', 'the', 'developers'], 'creator'), (['what', 'is', 'the', 'name', 'of', 'the', 'creators'], 'creator'), (['who', 'created', 'you'], 'creator'), (['your', 'developers'], 'creator'), (['your', 'creators'], 'creator'), (['who', 'are', 'your', 'developers'], 'creator'), (['developers'], 'creator'), (['you', 'are', 'made', 'by'], 'creator'), (['you', 'are', 'made', 'by', 'whom'], 'creator'), (['who', 'created', 'you'], 'creator'), (['who', 'create', 'you'], 'creator'), (['creators'], 'creator'), (['who', 'made', 'you'], 'creator'), (['who', 'designed', 'you'], 'creator'), (['name'], 'name'), (['your', 'name'], 'name'), (['do', 'you', 'have', 'a', 'name'], 'name'), (['what', 'are', 'you', 'called'], 'name'), (['what', 'is', 'your', 'name'], 'name'), (['what', 'should', 'I', 'call', 'you'], 'name'), (['whats', 'your', 'name', '?'], 'name'), (['what', 'are', 'you'], 'name'), (['who', 'are', 'you'], 'name'), (['who', 'is', 'this'], 'name'), (['what', 'am', 'i', 'chatting', 'to'], 'name'), (['who', 'am', 'i', 'taking', 'to'], 'name'), (['what', 'are', 'you'], 'name'), (['timing', 'of', 'college'], 'hours'), (['what', 'is', 'college', 'timing'], 'hours'), (['working', 'days'], 'hours'), (['when', 'are', 'you', 'guys', 'open'], 'hours'), (['what', 'are', 'your', 'hours'], 'hours'), (['hours', 'of', 'operation'], 'hours'), (['when', 'is', 'the', 'college', 'open'], 'hours'), (['college', 'timing'], 'hours'), (['what', 'about', 'college', 'timing'], 'hours'), (['is', 'college', 'open', 'on', 'saturday'], 'hours'), (['tell', 'something', 'about', 'college', 'timing'], 'hours'), (['what', 'is', 'the', 'college', 'hours'], 'hours'), (['when', 'should', 'i', 'come', 'to', 'college'], 'hours'), (['when', 'should', 'i', 'attend', 'college'], 'hours'), (['what', 'is', 'my', 'college', 'time'], 'hours'), (['college', 'timing'], 'hours'), (['timing', 'college'], 'hours'), (['more', 'info'], 'number'), (['contact', 'info'], 'number'), (['how', 'to', 'contact', 'college'], 'number'), (['college', 'telephone', 'number'], 'number'), (['college', 'number'], 'number'), (['What', 'is', 'your', 'contact', 'no'], 'number'), (['Contact', 'number', '?'], 'number'), (['how', 'to', 'call', 'you'], 'number'), (['College', 'phone', 'no', '?'], 'number'), (['how', 'can', 'i', 'contact', 'you'], 'number'), (['Can', 'i', 'get', 'your', 'phone', 'number'], 'number'), (['how', 'can', 'i', 'call', 'you'], 'number'), (['phone', 'number'], 'number'), (['phone', 'no'], 'number'), (['call'], 'number'), (['list', 'of', 'courses'], 'course'), (['list', 'of', 'courses', 'offered'], 'course'), (['list', 'of', 'courses', 'offered', 'in'], 'course'), (['what', 'are', 'the', 'courses', 'offered', 'in', 'your', 'college', '?'], 'course'), (['courses', '?'], 'course'), (['courses', 'offered'], 'course'), (['courses', 'offered', 'in', '(', 'your', 'univrsity', '(', 'UNI', ')', 'name', ')'], 'course'), (['courses', 'you', 'offer'], 'course'), (['branches', '?'], 'course'), (['courses', 'available', 'at', 'UNI', '?'], 'course'), (['branches', 'available', 'at', 'your', 'college', '?'], 'course'), (['what', 'are', 'the', 'courses', 'in', 'UNI', '?'], 'course'), (['what', 'are', 'branches', 'in', 'UNI', '?'], 'course'), (['what', 'are', 'courses', 'in', 'UNI', '?'], 'course'), (['branches', 'available', 'in', 'UNI', '?'], 'course'), (['can', 'you', 'tell', 'me', 'the', 'courses', 'available', 'in', 'UNI', '?'], 'course'), (['can', 'you', 'tell', 'me', 'the', 'branches', 'available', 'in', 'UNI', '?'], 'course'), (['computer', 'engineering', '?'], 'course'), (['computer'], 'course'), (['Computer', 'engineering', '?'], 'course'), (['it'], 'course'), (['IT'], 'course'), (['Information', 'Technology'], 'course'), (['AI/Ml'], 'course'), (['Mechanical', 'engineering'], 'course'), (['Chemical', 'engineering'], 'course'), (['Civil', 'engineering'], 'course'), (['information', 'about', 'fee'], 'fees'), (['information', 'on', 'fee'], 'fees'), (['tell', 'me', 'the', 'fee'], 'fees'), (['college', 'fee'], 'fees'), (['fee', 'per', 'semester'], 'fees'), (['what', 'is', 'the', 'fee', 'of', 'each', 'semester'], 'fees'), (['what', 'is', 'the', 'fees', 'of', 'each', 'year'], 'fees'), (['what', 'is', 'fee'], 'fees'), (['what', 'is', 'the', 'fees'], 'fees'), (['how', 'much', 'is', 'the', 'fees'], 'fees'), (['fees', 'for', 'first', 'year'], 'fees'), (['fees'], 'fees'), (['about', 'the', 'fees'], 'fees'), (['tell', 'me', 'something', 'about', 'the', 'fees'], 'fees'), (['What', 'is', 'the', 'fees', 'of', 'hostel'], 'fees'), (['how', 'much', 'is', 'the', 'fees'], 'fees'), (['hostel', 'fees'], 'fees'), (['fees', 'for', 'AC', 'room'], 'fees'), (['fees', 'for', 'non-AC', 'room'], 'fees'), (['fees', 'for', 'Ac', 'room', 'for', 'girls'], 'fees'), (['fees', 'for', 'non-Ac', 'room', 'for', 'girls'], 'fees'), (['fees', 'for', 'Ac', 'room', 'for', 'boys'], 'fees'), (['fees', 'for', 'non-Ac', 'room', 'for', 'boys'], 'fees'), (['where', 'is', 'the', 'college', 'located'], 'location'), (['college', 'is', 'located', 'at'], 'location'), (['where', 'is', 'college'], 'location'), (['where', 'is', 'college', 'located'], 'location'), (['address', 'of', 'college'], 'location'), (['how', 'to', 'reach', 'college'], 'location'), (['college', 'location'], 'location'), (['college', 'address'], 'location'), (['wheres', 'the', 'college'], 'location'), (['how', 'can', 'I', 'reach', 'college'], 'location'), (['whats', 'is', 'the', 'college', 'address'], 'location'), (['what', 'is', 'the', 'address', 'of', 'college'], 'location'), (['address'], 'location'), (['location'], 'location'), (['hostel', 'facility'], 'hostel'), (['hostel', 'servive'], 'hostel'), (['hostel', 'location'], 'hostel'), (['hostel', 'address'], 'hostel'), (['hostel', 'facilities'], 'hostel'), (['hostel', 'fees'], 'hostel'), (['Does', 'college', 'provide', 'hostel'], 'hostel'), (['Is', 'there', 'any', 'hostel'], 'hostel'), (['Where', 'is', 'hostel'], 'hostel'), (['do', 'you', 'have', 'hostel'], 'hostel'), (['do', 'you', 'guys', 'have', 'hostel'], 'hostel'), (['hostel'], 'hostel'), (['hostel', 'capacity'], 'hostel'), (['what', 'is', 'the', 'hostel', 'fee'], 'hostel'), (['how', 'to', 'get', 'in', 'hostel'], 'hostel'), (['what', 'is', 'the', 'hostel', 'address'], 'hostel'), (['how', 'far', 'is', 'hostel', 'from', 'college'], 'hostel'), (['hostel', 'college', 'distance'], 'hostel'), (['where', 'is', 'the', 'hostel'], 'hostel'), (['how', 'big', 'is', 'the', 'hostel'], 'hostel'), (['distance', 'between', 'college', 'and', 'hostel'], 'hostel'), (['distance', 'between', 'hostel', 'and', 'college'], 'hostel'), (['events', 'organised'], 'event'), (['list', 'of', 'events'], 'event'), (['list', 'of', 'events', 'organised', 'in', 'college'], 'event'), (['list', 'of', 'events', 'conducted', 'in', 'college'], 'event'), (['What', 'events', 'are', 'conducted', 'in', 'college'], 'event'), (['Are', 'there', 'any', 'event', 'held', 'at', 'college'], 'event'), (['Events', '?'], 'event'), (['functions'], 'event'), (['what', 'are', 'the', 'events'], 'event'), (['tell', 'me', 'about', 'events'], 'event'), (['what', 'about', 'events'], 'event'), (['document', 'to', 'bring'], 'document'), (['documents', 'needed', 'for', 'admision'], 'document'), (['documents', 'needed', 'at', 'the', 'time', 'of', 'admission'], 'document'), (['documents', 'needed', 'during', 'admission'], 'document'), (['documents', 'required', 'for', 'admision'], 'document'), (['documents', 'required', 'at', 'the', 'time', 'of', 'admission'], 'document'), (['documents', 'required', 'during', 'admission'], 'document'), (['What', 'document', 'are', 'required', 'for', 'admission'], 'document'), (['Which', 'document', 'to', 'bring', 'for', 'admission'], 'document'), (['documents'], 'document'), (['what', 'documents', 'do', 'i', 'need'], 'document'), (['what', 'documents', 'do', 'I', 'need', 'for', 'admission'], 'document'), (['documents', 'needed'], 'document'), (['size', 'of', 'campus'], 'floors'), (['building', 'size'], 'floors'), (['How', 'many', 'floors', 'does', 'college', 'have'], 'floors'), (['floors', 'in', 'college'], 'floors'), (['floors', 'in', 'college'], 'floors'), (['how', 'tall', 'is', 'UNI', \"'s\", 'College', 'of', 'Engineering', 'college', 'building'], 'floors'), (['floors'], 'floors'), (['Syllabus', 'for', 'IT'], 'syllabus'), (['what', 'is', 'the', 'Information', 'Technology', 'syllabus'], 'syllabus'), (['syllabus'], 'syllabus'), (['timetable'], 'syllabus'), (['what', 'is', 'IT', 'syllabus'], 'syllabus'), (['syllabus'], 'syllabus'), (['What', 'is', 'next', 'lecture'], 'syllabus'), (['is', 'there', 'any', 'library'], 'library'), (['library', 'facility'], 'library'), (['library', 'facilities'], 'library'), (['do', 'you', 'have', 'library'], 'library'), (['does', 'the', 'college', 'have', 'library', 'facility'], 'library'), (['college', 'library'], 'library'), (['where', 'can', 'i', 'get', 'books'], 'library'), (['book', 'facility'], 'library'), (['Where', 'is', 'library'], 'library'), (['Library'], 'library'), (['Library', 'information'], 'library'), (['Library', 'books', 'information'], 'library'), (['Tell', 'me', 'about', 'library'], 'library'), (['how', 'many', 'libraries'], 'library'), (['how', 'is', 'college', 'infrastructure'], 'infrastructure'), (['infrastructure'], 'infrastructure'), (['college', 'infrastructure'], 'infrastructure'), (['food', 'facilities'], 'canteen'), (['canteen', 'facilities'], 'canteen'), (['canteen', 'facility'], 'canteen'), (['is', 'there', 'any', 'canteen'], 'canteen'), (['Is', 'there', 'a', 'cafetaria', 'in', 'college'], 'canteen'), (['Does', 'college', 'have', 'canteen'], 'canteen'), (['Where', 'is', 'canteen'], 'canteen'), (['where', 'is', 'cafetaria'], 'canteen'), (['canteen'], 'canteen'), (['Food'], 'canteen'), (['Cafetaria'], 'canteen'), (['food', 'menu'], 'menu'), (['food', 'in', 'canteen'], 'menu'), (['Whats', 'there', 'on', 'menu'], 'menu'), (['what', 'is', 'available', 'in', 'college', 'canteen'], 'menu'), (['what', 'foods', 'can', 'we', 'get', 'in', 'college', 'canteen'], 'menu'), (['food', 'variety'], 'menu'), (['What', 'is', 'there', 'to', 'eat', '?'], 'menu'), (['What', 'is', 'college', 'placement'], 'placement'), (['Which', 'companies', 'visit', 'in', 'college'], 'placement'), (['What', 'is', 'average', 'package'], 'placement'), (['companies', 'visit'], 'placement'), (['package'], 'placement'), (['About', 'placement'], 'placement'), (['placement'], 'placement'), (['recruitment'], 'placement'), (['companies'], 'placement'), (['Who', 'is', 'HOD'], 'ithod'), (['Where', 'is', 'HOD'], 'ithod'), (['it', 'hod'], 'ithod'), (['name', 'of', 'it', 'hod'], 'ithod'), (['Who', 'is', 'computer', 'HOD'], 'computerhod'), (['Where', 'is', 'computer', 'HOD'], 'computerhod'), (['computer', 'hod'], 'computerhod'), (['name', 'of', 'computer', 'hod'], 'computerhod'), (['Who', 'is', 'extc', 'HOD'], 'extchod'), (['Where', 'is', 'extc', 'HOD'], 'extchod'), (['extc', 'hod'], 'extchod'), (['name', 'of', 'extc', 'hod'], 'extchod'), (['what', 'is', 'the', 'name', 'of', 'principal'], 'principal'), (['whatv', 'is', 'the', 'principal', 'name'], 'principal'), (['principal', 'name'], 'principal'), (['Who', 'is', 'college', 'principal'], 'principal'), (['Where', 'is', 'principal', \"'s\", 'office'], 'principal'), (['principal'], 'principal'), (['name', 'of', 'principal'], 'principal'), (['exam', 'dates'], 'sem'), (['exam', 'schedule'], 'sem'), (['When', 'is', 'semester', 'exam'], 'sem'), (['Semester', 'exam', 'timetable'], 'sem'), (['sem'], 'sem'), (['semester'], 'sem'), (['exam'], 'sem'), (['when', 'is', 'exam'], 'sem'), (['exam', 'timetable'], 'sem'), (['exam', 'dates'], 'sem'), (['when', 'is', 'semester'], 'sem'), (['what', 'is', 'the', 'process', 'of', 'admission'], 'admission'), (['what', 'is', 'the', 'admission', 'process'], 'admission'), (['How', 'to', 'take', 'admission', 'in', 'your', 'college'], 'admission'), (['What', 'is', 'the', 'process', 'for', 'admission'], 'admission'), (['admission'], 'admission'), (['admission', 'process'], 'admission'), (['scholarship'], 'scholarship'), (['Is', 'scholarship', 'available'], 'scholarship'), (['scholarship', 'engineering'], 'scholarship'), (['scholarship', 'it'], 'scholarship'), (['scholarship', 'ce'], 'scholarship'), (['scholarship', 'mechanical'], 'scholarship'), (['scholarship', 'civil'], 'scholarship'), (['scholarship', 'chemical'], 'scholarship'), (['scholarship', 'for', 'AI/ML'], 'scholarship'), (['available', 'scholarships'], 'scholarship'), (['scholarship', 'for', 'computer', 'engineering'], 'scholarship'), (['scholarship', 'for', 'IT', 'engineering'], 'scholarship'), (['scholarship', 'for', 'mechanical', 'engineering'], 'scholarship'), (['scholarship', 'for', 'civil', 'engineering'], 'scholarship'), (['scholarship', 'for', 'chemical', 'engineering'], 'scholarship'), (['list', 'of', 'scholarship'], 'scholarship'), (['comps', 'scholarship'], 'scholarship'), (['IT', 'scholarship'], 'scholarship'), (['mechanical', 'scholarship'], 'scholarship'), (['civil', 'scholarship'], 'scholarship'), (['chemical', 'scholarship'], 'scholarship'), (['automobile', 'scholarship'], 'scholarship'), (['first', 'year', 'scholarship'], 'scholarship'), (['second', 'year', 'scholarship'], 'scholarship'), (['third', 'year', 'scholarship'], 'scholarship'), (['fourth', 'year', 'scholarship'], 'scholarship'), (['What', 'facilities', 'college', 'provide'], 'facilities'), (['College', 'facility'], 'facilities'), (['What', 'are', 'college', 'facilities'], 'facilities'), (['facilities'], 'facilities'), (['facilities', 'provided'], 'facilities'), (['max', 'number', 'of', 'students'], 'college intake'), (['number', 'of', 'seats', 'per', 'branch'], 'college intake'), (['number', 'of', 'seats', 'in', 'each', 'branch'], 'college intake'), (['maximum', 'number', 'of', 'seats'], 'college intake'), (['maximum', 'students', 'intake'], 'college intake'), (['What', 'is', 'college', 'intake'], 'college intake'), (['how', 'many', 'stundent', 'are', 'taken', 'in', 'each', 'branch'], 'college intake'), (['seat', 'allotment'], 'college intake'), (['seats'], 'college intake'), (['college', 'dress', 'code'], 'uniform'), (['college', 'dresscode'], 'uniform'), (['what', 'is', 'the', 'uniform'], 'uniform'), (['can', 'we', 'wear', 'casuals'], 'uniform'), (['Does', 'college', 'have', 'an', 'uniform'], 'uniform'), (['Is', 'there', 'any', 'uniform'], 'uniform'), (['uniform'], 'uniform'), (['what', 'about', 'uniform'], 'uniform'), (['do', 'we', 'have', 'to', 'wear', 'uniform'], 'uniform'), (['what', 'are', 'the', 'different', 'committe', 'in', 'college'], 'committee'), (['different', 'committee', 'in', 'college'], 'committee'), (['Are', 'there', 'any', 'committee', 'in', 'college'], 'committee'), (['Give', 'me', 'committee', 'details'], 'committee'), (['committee'], 'committee'), (['how', 'many', 'committee', 'are', 'there', 'in', 'college'], 'committee'), (['I', 'love', 'you'], 'random'), (['Will', 'you', 'marry', 'me'], 'random'), (['Do', 'you', 'love', 'me'], 'random'), (['fuck'], 'swear'), (['bitch'], 'swear'), (['shut', 'up'], 'swear'), (['hell'], 'swear'), (['stupid'], 'swear'), (['idiot'], 'swear'), (['dumb', 'ass'], 'swear'), (['asshole'], 'swear'), (['fucker'], 'swear'), (['holidays'], 'vacation'), (['when', 'will', 'semester', 'starts'], 'vacation'), (['when', 'will', 'semester', 'end'], 'vacation'), (['when', 'is', 'the', 'holidays'], 'vacation'), (['list', 'of', 'holidays'], 'vacation'), (['Holiday', 'in', 'these', 'year'], 'vacation'), (['holiday', 'list'], 'vacation'), (['about', 'vacations'], 'vacation'), (['about', 'holidays'], 'vacation'), (['When', 'is', 'vacation'], 'vacation'), (['When', 'is', 'holidays'], 'vacation'), (['how', 'long', 'will', 'be', 'the', 'vacation'], 'vacation'), (['sports', 'and', 'games'], 'sports'), (['give', 'sports', 'details'], 'sports'), (['sports', 'infrastructure'], 'sports'), (['sports', 'facilities'], 'sports'), (['information', 'about', 'sports'], 'sports'), (['Sports', 'activities'], 'sports'), (['please', 'provide', 'sports', 'and', 'games', 'information'], 'sports'), (['okk'], 'salutaion'), (['okie'], 'salutaion'), (['nice', 'work'], 'salutaion'), (['well', 'done'], 'salutaion'), (['good', 'job'], 'salutaion'), (['thanks', 'for', 'the', 'help'], 'salutaion'), (['Thank', 'You'], 'salutaion'), (['its', 'ok'], 'salutaion'), (['Thanks'], 'salutaion'), (['Good', 'work'], 'salutaion'), (['k'], 'salutaion'), (['ok'], 'salutaion'), (['okay'], 'salutaion'), (['what', 'can', 'you', 'do'], 'task'), (['what', 'are', 'the', 'thing', 'you', 'can', 'do'], 'task'), (['things', 'you', 'can', 'do'], 'task'), (['what', 'can', 'u', 'do', 'for', 'me'], 'task'), (['how', 'u', 'can', 'help', 'me'], 'task'), (['why', 'i', 'should', 'use', 'you'], 'task'), (['ragging'], 'ragging'), (['is', 'ragging', 'practice', 'active', 'in', 'college'], 'ragging'), (['does', 'college', 'have', 'any', 'antiragging', 'facility'], 'ragging'), (['is', 'there', 'any', 'ragging', 'cases'], 'ragging'), (['is', 'ragging', 'done', 'here'], 'ragging'), (['ragging', 'against'], 'ragging'), (['antiragging', 'facility'], 'ragging'), (['ragging', 'juniors'], 'ragging'), (['ragging', 'history'], 'ragging'), (['ragging', 'incidents'], 'ragging'), (['hod'], 'hod'), (['hod', 'name'], 'hod'), (['who', 'is', 'the', 'hod'], 'hod')] \n",
      "\n",
      "38 classes\n",
      " ['admission', 'canteen', 'college intake', 'committee', 'computerhod', 'course', 'creator', 'document', 'event', 'extchod', 'facilities', 'fees', 'floors', 'goodbye', 'greeting', 'hod', 'hostel', 'hours', 'infrastructure', 'ithod', 'library', 'location', 'menu', 'name', 'number', 'placement', 'principal', 'ragging', 'random', 'salutaion', 'scholarship', 'sem', 'sports', 'swear', 'syllabus', 'task', 'uniform', 'vacation'] \n",
      "\n",
      "263 unique lemmatized words\n",
      " [\"'s\", '(', ')', 'a', 'about', 'ac', 'active', 'activity', 'address', 'admision', 'admission', 'against', 'ai/ml', 'allotment', 'am', 'an', 'and', 'antiragging', 'any', 'anyone', 'are', 'as', 'asshole', 'at', 'attend', 'automobile', 'available', 'average', 'be', 'between', 'big', 'bitch', 'book', 'boy', 'branch', 'bring', 'building', 'by', 'bye', 'cafetaria', 'call', 'called', 'campus', 'can', 'canteen', 'capacity', 'case', 'casuals', 'ce', 'chatting', 'chemical', 'civil', 'code', 'college', 'come', 'committe', 'committee', 'comp', 'company', 'computer', 'conducted', 'contact', 'course', 'create', 'created', 'creator', 'cya', 'date', 'day', 'designed', 'detail', 'developer', 'different', 'distance', 'do', 'document', 'doe', 'done', 'dress', 'dresscode', 'dumb', 'during', 'each', 'eat', 'end', 'engineering', 'event', 'exam', 'extc', 'facility', 'far', 'fee', 'first', 'floor', 'food', 'for', 'fourth', 'from', 'fuck', 'fucker', 'function', 'game', 'get', 'girl', 'give', 'go', 'good', 'goodbye', 'got', 'gtg', 'guy', 'have', 'held', 'hell', 'hello', 'help', 'here', 'heyy', 'hi', 'history', 'hod', 'holiday', 'hostel', 'hour', 'how', 'i', 'idiot', 'in', 'incident', 'info', 'information', 'infrastructure', 'intake', 'is', 'it', 'job', 'junior', 'k', 'later', 'leaving', 'lecture', 'library', 'list', 'located', 'location', 'long', 'love', 'made', 'many', 'marry', 'max', 'maximum', 'me', 'mechanical', 'menu', 'more', 'much', 'my', 'name', 'need', 'needed', 'next', 'nice', 'no', 'non-ac', 'number', 'of', 'offer', 'offered', 'office', 'ok', 'okay', 'okie', 'okk', 'on', 'open', 'operation', 'organised', 'package', 'per', 'phone', 'placement', 'please', 'practice', 'principal', 'process', 'provide', 'provided', 'ragging', 'reach', 'recruitment', 'required', 'room', 'saturday', 'schedule', 'scholarship', 'seat', 'second', 'see', 'sem', 'semester', 'servive', 'should', 'shut', 'size', 'something', 'sport', 'start', 'student', 'stundent', 'stupid', 'syllabus', 'take', 'taken', 'taking', 'talk', 'tall', 'technology', 'telephone', 'tell', 'thank', 'thanks', 'the', 'there', 'these', 'thing', 'third', 'this', 'time', 'timetable', 'timing', 'to', 'ttyl', 'u', 'uni', 'uniform', 'univrsity', 'up', 'use', 'vacation', 'variety', 'visit', 'we', 'wear', 'well', 'what', 'whats', 'whatsup', 'whatv', 'when', 'where', 'wheres', 'which', 'who', 'whom', 'why', 'will', 'work', 'working', 'ya', 'year', 'you', 'your'] \n",
      "\n"
     ]
    }
   ],
   "source": [
    "# lemmatize, lower each word and remove duplicates\n",
    "words = [lemmatizer.lemmatize(w.lower()) for w in words if w not in ignore_words]\n",
    "words = sorted(list(set(words)))\n",
    "# sort classes\n",
    "classes = sorted(list(set(classes)))\n",
    "# documents = combination between patterns and intents\n",
    "print (len(documents), \"documents\\n\", documents, \"\\n\")\n",
    "# classes = intents[tag]\n",
    "print (len(classes), \"classes\\n\", classes, \"\\n\")\n",
    "# words = all words, vocabulary\n",
    "print (len(words), \"unique lemmatized words\\n\", words, \"\\n\")\n",
    "pickle.dump(words,open('words.pkl','wb'))\n",
    "pickle.dump(classes,open('classes.pkl','wb'))"
   ]
  },
  {
   "cell_type": "markdown",
   "metadata": {
    "id": "9f8f5df3"
   },
   "source": [
    "# **Training Model**"
   ]
  },
  {
   "cell_type": "markdown",
   "metadata": {},
   "source": [
    "Now, we will create the training data in which we will provide the input and the output. \n",
    "- Our input will be the pattern and output will be the class our input pattern belongs to. But the computer doesn’t understand text so we will convert text into numbers"
   ]
  },
  {
   "cell_type": "code",
   "execution_count": 11,
   "metadata": {
    "execution": {
     "iopub.execute_input": "2023-02-23T04:28:30.715516Z",
     "iopub.status.busy": "2023-02-23T04:28:30.71501Z",
     "iopub.status.idle": "2023-02-23T04:28:30.764666Z",
     "shell.execute_reply": "2023-02-23T04:28:30.763529Z",
     "shell.execute_reply.started": "2023-02-23T04:28:30.715468Z"
    },
    "id": "d847cc41",
    "outputId": "0ca247d5-1c16-41c6-fbd8-4c22fb030298"
   },
   "outputs": [
    {
     "name": "stdout",
     "output_type": "stream",
     "text": [
      "Training data created\n"
     ]
    }
   ],
   "source": [
    "# create our training data\n",
    "training = []\n",
    "# create an empty array for our output\n",
    "output_empty = [0] * len(classes)\n",
    "# training set, bag of words for each sentence\n",
    "for doc in documents:\n",
    "    # initialize our bag of words\n",
    "    bag = []\n",
    "    # list of tokenized words\n",
    "    pattern_words = doc[0]\n",
    "    # convert pattern_words in lower case\n",
    "    pattern_words = [lemmatizer.lemmatize(word.lower()) for word in pattern_words]\n",
    "    # create bag of words array,if word match found in current pattern then put 1 otherwise 0.[row * colm(263)]\n",
    "    for w in words:\n",
    "        bag.append(1) if w in pattern_words else bag.append(0)\n",
    "    \n",
    "    # in output array 0 value for each tag ang 1 value for matched tag.[row * colm(8)]\n",
    "    output_row = list(output_empty)\n",
    "    output_row[classes.index(doc[1])] = 1\n",
    "    \n",
    "    training.append([bag, output_row])\n",
    "# shuffle training and turn into np.array\n",
    "random.shuffle(training)\n",
    "training = np.array(training)\n",
    "# create train and test. X - patterns(words), Y - intents(tags)\n",
    "train_x = list(training[:,0])\n",
    "train_y = list(training[:,1])\n",
    "print(\"Training data created\")"
   ]
  },
  {
   "cell_type": "code",
   "execution_count": 12,
   "metadata": {
    "execution": {
     "iopub.execute_input": "2023-02-23T04:28:30.768413Z",
     "iopub.status.busy": "2023-02-23T04:28:30.768035Z",
     "iopub.status.idle": "2023-02-23T04:28:30.773773Z",
     "shell.execute_reply": "2023-02-23T04:28:30.772614Z",
     "shell.execute_reply.started": "2023-02-23T04:28:30.76838Z"
    },
    "id": "a002459e"
   },
   "outputs": [],
   "source": [
    "from tensorflow.python.framework import ops\n",
    "ops.reset_default_graph()"
   ]
  },
  {
   "cell_type": "markdown",
   "metadata": {},
   "source": [
    "# **Build the model** "
   ]
  },
  {
   "cell_type": "markdown",
   "metadata": {},
   "source": [
    "We have our training data ready, now we will build a deep neural network that has 3 layers. We use the Keras sequential API for this. After training the model for 200 epochs, we achieved 100% accuracy on our model. Let us save the model as ‘chatbot_model.h5'."
   ]
  },
  {
   "cell_type": "code",
   "execution_count": 13,
   "metadata": {
    "execution": {
     "iopub.execute_input": "2023-02-23T04:28:30.77582Z",
     "iopub.status.busy": "2023-02-23T04:28:30.775486Z",
     "iopub.status.idle": "2023-02-23T04:28:30.937064Z",
     "shell.execute_reply": "2023-02-23T04:28:30.935966Z",
     "shell.execute_reply.started": "2023-02-23T04:28:30.775792Z"
    },
    "id": "0326b0b8",
    "outputId": "3961859b-9073-4378-fdff-bf570249b7a9"
   },
   "outputs": [
    {
     "name": "stdout",
     "output_type": "stream",
     "text": [
      "First layer: [[-0.03296898 -0.03180958  0.07483755 ...  0.02430139 -0.03923452\n",
      "   0.01619752]\n",
      " [ 0.08061145  0.01383856 -0.01899236 ...  0.09842151 -0.12140252\n",
      "   0.02099402]\n",
      " [ 0.03794174  0.00908884 -0.08379708 ... -0.12371001  0.07710576\n",
      "   0.01980981]\n",
      " ...\n",
      " [-0.0413814   0.03453803 -0.11517949 ...  0.09973669 -0.04896797\n",
      "   0.02799401]\n",
      " [ 0.05113789 -0.02806534 -0.00111492 ...  0.09149067  0.0434711\n",
      "   0.01998022]\n",
      " [-0.07499482  0.08088306  0.09453624 ...  0.01458693 -0.00270041\n",
      "  -0.05652029]]\n"
     ]
    }
   ],
   "source": [
    "# Create model - 3 layers. First layer 128 neurons, second layer 64 neurons and 3rd output layer contains number of neurons\n",
    "# equal to number of intents to predict output intent with softmax\n",
    "model = Sequential()\n",
    "model.add(Dense(128, input_shape=(len(train_x[0]),), activation='relu'))\n",
    "model.add(Dropout(0.5))\n",
    "model.add(Dense(64, activation='relu'))\n",
    "model.add(Dropout(0.5))\n",
    "model.add(Dense(len(train_y[0]), activation='softmax'))\n",
    "print(\"First layer:\",model.layers[0].get_weights()[0])"
   ]
  },
  {
   "cell_type": "code",
   "execution_count": 14,
   "metadata": {
    "execution": {
     "iopub.execute_input": "2023-02-23T04:28:30.939071Z",
     "iopub.status.busy": "2023-02-23T04:28:30.938256Z",
     "iopub.status.idle": "2023-02-23T04:28:30.953806Z",
     "shell.execute_reply": "2023-02-23T04:28:30.95271Z",
     "shell.execute_reply.started": "2023-02-23T04:28:30.939039Z"
    },
    "id": "33cf80df"
   },
   "outputs": [],
   "source": [
    "# Compile model. Stochastic gradient descent with Nesterov accelerated gradient gives good results for this model\n",
    "# sgd = SGD(lr=0.01, decay=1e-6, momentum=0.9, nesterov=True)\n",
    "model.compile(loss='categorical_crossentropy', optimizer='adam', metrics=['accuracy'])"
   ]
  },
  {
   "cell_type": "code",
   "execution_count": 15,
   "metadata": {
    "execution": {
     "iopub.execute_input": "2023-02-23T04:28:30.95718Z",
     "iopub.status.busy": "2023-02-23T04:28:30.956052Z",
     "iopub.status.idle": "2023-02-23T04:29:05.259562Z",
     "shell.execute_reply": "2023-02-23T04:29:05.258288Z",
     "shell.execute_reply.started": "2023-02-23T04:28:30.957138Z"
    },
    "id": "dd9caaa2",
    "outputId": "e1a9fb02-ea70-49ea-c742-de37f795d0c6"
   },
   "outputs": [
    {
     "name": "stdout",
     "output_type": "stream",
     "text": [
      "Epoch 1/200\n",
      "81/81 [==============================] - 1s 725us/step - loss: 3.6068 - accuracy: 0.0469\n",
      "Epoch 2/200\n",
      "81/81 [==============================] - 0s 696us/step - loss: 3.4781 - accuracy: 0.1111\n",
      "Epoch 3/200\n",
      "81/81 [==============================] - 0s 653us/step - loss: 3.3222 - accuracy: 0.1704\n",
      "Epoch 4/200\n",
      "81/81 [==============================] - 0s 654us/step - loss: 3.0713 - accuracy: 0.2222\n",
      "Epoch 5/200\n",
      "81/81 [==============================] - 0s 650us/step - loss: 2.8699 - accuracy: 0.2593\n",
      "Epoch 6/200\n",
      "81/81 [==============================] - 0s 633us/step - loss: 2.5955 - accuracy: 0.3383\n",
      "Epoch 7/200\n",
      "81/81 [==============================] - 0s 653us/step - loss: 2.3417 - accuracy: 0.4049\n",
      "Epoch 8/200\n",
      "81/81 [==============================] - 0s 645us/step - loss: 2.1105 - accuracy: 0.4519\n",
      "Epoch 9/200\n",
      "81/81 [==============================] - 0s 669us/step - loss: 1.9615 - accuracy: 0.5086\n",
      "Epoch 10/200\n",
      "81/81 [==============================] - 0s 693us/step - loss: 1.7081 - accuracy: 0.5654\n",
      "Epoch 11/200\n",
      "81/81 [==============================] - 0s 654us/step - loss: 1.5950 - accuracy: 0.5975\n",
      "Epoch 12/200\n",
      "81/81 [==============================] - 0s 651us/step - loss: 1.4720 - accuracy: 0.6519\n",
      "Epoch 13/200\n",
      "81/81 [==============================] - 0s 652us/step - loss: 1.3558 - accuracy: 0.6593\n",
      "Epoch 14/200\n",
      "81/81 [==============================] - 0s 754us/step - loss: 1.2325 - accuracy: 0.6691\n",
      "Epoch 15/200\n",
      "81/81 [==============================] - 0s 693us/step - loss: 1.1305 - accuracy: 0.7185\n",
      "Epoch 16/200\n",
      "81/81 [==============================] - 0s 633us/step - loss: 1.0347 - accuracy: 0.7432\n",
      "Epoch 17/200\n",
      "81/81 [==============================] - 0s 666us/step - loss: 0.9397 - accuracy: 0.7679\n",
      "Epoch 18/200\n",
      "81/81 [==============================] - 0s 675us/step - loss: 0.8675 - accuracy: 0.7778\n",
      "Epoch 19/200\n",
      "81/81 [==============================] - 0s 657us/step - loss: 0.8123 - accuracy: 0.7827\n",
      "Epoch 20/200\n",
      "81/81 [==============================] - 0s 810us/step - loss: 0.7860 - accuracy: 0.7827\n",
      "Epoch 21/200\n",
      "81/81 [==============================] - 0s 640us/step - loss: 0.6679 - accuracy: 0.8247\n",
      "Epoch 22/200\n",
      "81/81 [==============================] - 0s 642us/step - loss: 0.6345 - accuracy: 0.8494\n",
      "Epoch 23/200\n",
      "81/81 [==============================] - 0s 647us/step - loss: 0.5619 - accuracy: 0.8765\n",
      "Epoch 24/200\n",
      "81/81 [==============================] - 0s 648us/step - loss: 0.5742 - accuracy: 0.8469\n",
      "Epoch 25/200\n",
      "81/81 [==============================] - 0s 668us/step - loss: 0.5272 - accuracy: 0.8716\n",
      "Epoch 26/200\n",
      "81/81 [==============================] - 0s 640us/step - loss: 0.5051 - accuracy: 0.8790\n",
      "Epoch 27/200\n",
      "81/81 [==============================] - 0s 646us/step - loss: 0.5359 - accuracy: 0.8420\n",
      "Epoch 28/200\n",
      "81/81 [==============================] - 0s 643us/step - loss: 0.4948 - accuracy: 0.8815\n",
      "Epoch 29/200\n",
      "81/81 [==============================] - 0s 631us/step - loss: 0.4561 - accuracy: 0.8667\n",
      "Epoch 30/200\n",
      "81/81 [==============================] - 0s 640us/step - loss: 0.4344 - accuracy: 0.8840\n",
      "Epoch 31/200\n",
      "81/81 [==============================] - 0s 692us/step - loss: 0.4189 - accuracy: 0.9037\n",
      "Epoch 32/200\n",
      "81/81 [==============================] - 0s 712us/step - loss: 0.4156 - accuracy: 0.9062\n",
      "Epoch 33/200\n",
      "81/81 [==============================] - 0s 669us/step - loss: 0.3879 - accuracy: 0.8938\n",
      "Epoch 34/200\n",
      "81/81 [==============================] - 0s 680us/step - loss: 0.3726 - accuracy: 0.9012\n",
      "Epoch 35/200\n",
      "81/81 [==============================] - 0s 701us/step - loss: 0.4140 - accuracy: 0.8667\n",
      "Epoch 36/200\n",
      "81/81 [==============================] - 0s 650us/step - loss: 0.3322 - accuracy: 0.9136\n",
      "Epoch 37/200\n",
      "81/81 [==============================] - 0s 754us/step - loss: 0.3511 - accuracy: 0.9062\n",
      "Epoch 38/200\n",
      "81/81 [==============================] - 0s 772us/step - loss: 0.3362 - accuracy: 0.9086\n",
      "Epoch 39/200\n",
      "81/81 [==============================] - 0s 740us/step - loss: 0.3780 - accuracy: 0.8988\n",
      "Epoch 40/200\n",
      "81/81 [==============================] - 0s 701us/step - loss: 0.3158 - accuracy: 0.9136\n",
      "Epoch 41/200\n",
      "81/81 [==============================] - 0s 697us/step - loss: 0.3574 - accuracy: 0.9062\n",
      "Epoch 42/200\n",
      "81/81 [==============================] - 0s 672us/step - loss: 0.2885 - accuracy: 0.9284\n",
      "Epoch 43/200\n",
      "81/81 [==============================] - 0s 651us/step - loss: 0.2443 - accuracy: 0.9383\n",
      "Epoch 44/200\n",
      "81/81 [==============================] - 0s 652us/step - loss: 0.3066 - accuracy: 0.9111\n",
      "Epoch 45/200\n",
      "81/81 [==============================] - 0s 693us/step - loss: 0.2818 - accuracy: 0.9259\n",
      "Epoch 46/200\n",
      "81/81 [==============================] - 0s 671us/step - loss: 0.2263 - accuracy: 0.9407\n",
      "Epoch 47/200\n",
      "81/81 [==============================] - 0s 729us/step - loss: 0.2270 - accuracy: 0.9333\n",
      "Epoch 48/200\n",
      "81/81 [==============================] - 0s 720us/step - loss: 0.2711 - accuracy: 0.9185\n",
      "Epoch 49/200\n",
      "81/81 [==============================] - 0s 745us/step - loss: 0.2717 - accuracy: 0.9160\n",
      "Epoch 50/200\n",
      "81/81 [==============================] - 0s 710us/step - loss: 0.2341 - accuracy: 0.9432\n",
      "Epoch 51/200\n",
      "81/81 [==============================] - 0s 660us/step - loss: 0.2260 - accuracy: 0.9407\n",
      "Epoch 52/200\n",
      "81/81 [==============================] - 0s 697us/step - loss: 0.2607 - accuracy: 0.9383\n",
      "Epoch 53/200\n",
      "81/81 [==============================] - 0s 673us/step - loss: 0.2200 - accuracy: 0.9407\n",
      "Epoch 54/200\n",
      "81/81 [==============================] - 0s 678us/step - loss: 0.2100 - accuracy: 0.9457\n",
      "Epoch 55/200\n",
      "81/81 [==============================] - 0s 685us/step - loss: 0.2350 - accuracy: 0.9284\n",
      "Epoch 56/200\n",
      "81/81 [==============================] - 0s 691us/step - loss: 0.2122 - accuracy: 0.9481\n",
      "Epoch 57/200\n",
      "81/81 [==============================] - 0s 738us/step - loss: 0.2312 - accuracy: 0.9284\n",
      "Epoch 58/200\n",
      "81/81 [==============================] - 0s 667us/step - loss: 0.2279 - accuracy: 0.9284\n",
      "Epoch 59/200\n",
      "81/81 [==============================] - 0s 660us/step - loss: 0.2198 - accuracy: 0.9457\n",
      "Epoch 60/200\n",
      "81/81 [==============================] - 0s 649us/step - loss: 0.1725 - accuracy: 0.9531\n",
      "Epoch 61/200\n",
      "81/81 [==============================] - 0s 719us/step - loss: 0.1594 - accuracy: 0.9556\n",
      "Epoch 62/200\n",
      "81/81 [==============================] - 0s 686us/step - loss: 0.2018 - accuracy: 0.9506\n",
      "Epoch 63/200\n",
      "81/81 [==============================] - 0s 741us/step - loss: 0.1704 - accuracy: 0.9556\n",
      "Epoch 64/200\n",
      "81/81 [==============================] - 0s 722us/step - loss: 0.2261 - accuracy: 0.9136\n",
      "Epoch 65/200\n",
      "81/81 [==============================] - 0s 674us/step - loss: 0.1682 - accuracy: 0.9556\n",
      "Epoch 66/200\n",
      "81/81 [==============================] - 0s 668us/step - loss: 0.1724 - accuracy: 0.9432\n",
      "Epoch 67/200\n",
      "81/81 [==============================] - 0s 690us/step - loss: 0.1896 - accuracy: 0.9481\n",
      "Epoch 68/200\n",
      "81/81 [==============================] - 0s 755us/step - loss: 0.1956 - accuracy: 0.9333\n",
      "Epoch 69/200\n",
      "81/81 [==============================] - 0s 676us/step - loss: 0.1572 - accuracy: 0.9580\n",
      "Epoch 70/200\n",
      "81/81 [==============================] - 0s 708us/step - loss: 0.1637 - accuracy: 0.9531\n",
      "Epoch 71/200\n",
      "81/81 [==============================] - 0s 707us/step - loss: 0.1700 - accuracy: 0.9506\n",
      "Epoch 72/200\n",
      "81/81 [==============================] - 0s 683us/step - loss: 0.1420 - accuracy: 0.9506\n",
      "Epoch 73/200\n",
      "81/81 [==============================] - 0s 689us/step - loss: 0.1469 - accuracy: 0.9654\n",
      "Epoch 74/200\n",
      "81/81 [==============================] - 0s 785us/step - loss: 0.1407 - accuracy: 0.9728\n",
      "Epoch 75/200\n",
      "81/81 [==============================] - 0s 706us/step - loss: 0.1152 - accuracy: 0.9630\n",
      "Epoch 76/200\n",
      "81/81 [==============================] - 0s 668us/step - loss: 0.1613 - accuracy: 0.9457\n",
      "Epoch 77/200\n",
      "81/81 [==============================] - 0s 666us/step - loss: 0.1394 - accuracy: 0.9679\n",
      "Epoch 78/200\n",
      "81/81 [==============================] - 0s 643us/step - loss: 0.1311 - accuracy: 0.9630\n",
      "Epoch 79/200\n",
      "81/81 [==============================] - 0s 648us/step - loss: 0.1537 - accuracy: 0.9481\n",
      "Epoch 80/200\n",
      "81/81 [==============================] - 0s 735us/step - loss: 0.1756 - accuracy: 0.9556\n",
      "Epoch 81/200\n"
     ]
    },
    {
     "name": "stdout",
     "output_type": "stream",
     "text": [
      "81/81 [==============================] - 0s 691us/step - loss: 0.1420 - accuracy: 0.9531\n",
      "Epoch 82/200\n",
      "81/81 [==============================] - 0s 736us/step - loss: 0.1777 - accuracy: 0.9506\n",
      "Epoch 83/200\n",
      "81/81 [==============================] - 0s 679us/step - loss: 0.1500 - accuracy: 0.9630\n",
      "Epoch 84/200\n",
      "81/81 [==============================] - 0s 657us/step - loss: 0.1315 - accuracy: 0.9556\n",
      "Epoch 85/200\n",
      "81/81 [==============================] - 0s 623us/step - loss: 0.1354 - accuracy: 0.9605\n",
      "Epoch 86/200\n",
      "81/81 [==============================] - 0s 636us/step - loss: 0.1451 - accuracy: 0.9580\n",
      "Epoch 87/200\n",
      "81/81 [==============================] - 0s 640us/step - loss: 0.1390 - accuracy: 0.9580\n",
      "Epoch 88/200\n",
      "81/81 [==============================] - 0s 690us/step - loss: 0.1418 - accuracy: 0.9605\n",
      "Epoch 89/200\n",
      "81/81 [==============================] - 0s 698us/step - loss: 0.1213 - accuracy: 0.9630\n",
      "Epoch 90/200\n",
      "81/81 [==============================] - 0s 752us/step - loss: 0.1171 - accuracy: 0.9580\n",
      "Epoch 91/200\n",
      "81/81 [==============================] - 0s 676us/step - loss: 0.1239 - accuracy: 0.9580\n",
      "Epoch 92/200\n",
      "81/81 [==============================] - 0s 632us/step - loss: 0.1482 - accuracy: 0.9605\n",
      "Epoch 93/200\n",
      "81/81 [==============================] - 0s 638us/step - loss: 0.0946 - accuracy: 0.9778\n",
      "Epoch 94/200\n",
      "81/81 [==============================] - 0s 643us/step - loss: 0.1264 - accuracy: 0.9704\n",
      "Epoch 95/200\n",
      "81/81 [==============================] - 0s 641us/step - loss: 0.0923 - accuracy: 0.9753\n",
      "Epoch 96/200\n",
      "81/81 [==============================] - 0s 662us/step - loss: 0.0864 - accuracy: 0.9827\n",
      "Epoch 97/200\n",
      "81/81 [==============================] - 0s 619us/step - loss: 0.0983 - accuracy: 0.9679\n",
      "Epoch 98/200\n",
      "81/81 [==============================] - 0s 652us/step - loss: 0.1328 - accuracy: 0.9481\n",
      "Epoch 99/200\n",
      "81/81 [==============================] - 0s 688us/step - loss: 0.1354 - accuracy: 0.9556\n",
      "Epoch 100/200\n",
      "81/81 [==============================] - 0s 661us/step - loss: 0.0980 - accuracy: 0.9778\n",
      "Epoch 101/200\n",
      "81/81 [==============================] - 0s 716us/step - loss: 0.1086 - accuracy: 0.9679\n",
      "Epoch 102/200\n",
      "81/81 [==============================] - 0s 730us/step - loss: 0.1000 - accuracy: 0.9704\n",
      "Epoch 103/200\n",
      "81/81 [==============================] - 0s 660us/step - loss: 0.1198 - accuracy: 0.9630\n",
      "Epoch 104/200\n",
      "81/81 [==============================] - 0s 656us/step - loss: 0.1287 - accuracy: 0.9531\n",
      "Epoch 105/200\n",
      "81/81 [==============================] - 0s 661us/step - loss: 0.1143 - accuracy: 0.9654\n",
      "Epoch 106/200\n",
      "81/81 [==============================] - 0s 636us/step - loss: 0.0927 - accuracy: 0.9679\n",
      "Epoch 107/200\n",
      "81/81 [==============================] - 0s 630us/step - loss: 0.1260 - accuracy: 0.9556\n",
      "Epoch 108/200\n",
      "81/81 [==============================] - 0s 640us/step - loss: 0.0895 - accuracy: 0.9679\n",
      "Epoch 109/200\n",
      "81/81 [==============================] - 0s 673us/step - loss: 0.1093 - accuracy: 0.9728\n",
      "Epoch 110/200\n",
      "81/81 [==============================] - 0s 769us/step - loss: 0.1093 - accuracy: 0.9704\n",
      "Epoch 111/200\n",
      "81/81 [==============================] - 0s 701us/step - loss: 0.1035 - accuracy: 0.9679\n",
      "Epoch 112/200\n",
      "81/81 [==============================] - 0s 637us/step - loss: 0.1276 - accuracy: 0.9481\n",
      "Epoch 113/200\n",
      "81/81 [==============================] - 0s 664us/step - loss: 0.1126 - accuracy: 0.9580\n",
      "Epoch 114/200\n",
      "81/81 [==============================] - 0s 659us/step - loss: 0.0805 - accuracy: 0.9877\n",
      "Epoch 115/200\n",
      "81/81 [==============================] - 0s 641us/step - loss: 0.1137 - accuracy: 0.9630\n",
      "Epoch 116/200\n",
      "81/81 [==============================] - 0s 653us/step - loss: 0.1055 - accuracy: 0.9654\n",
      "Epoch 117/200\n",
      "81/81 [==============================] - 0s 670us/step - loss: 0.1087 - accuracy: 0.9704\n",
      "Epoch 118/200\n",
      "81/81 [==============================] - 0s 639us/step - loss: 0.0743 - accuracy: 0.9778\n",
      "Epoch 119/200\n",
      "81/81 [==============================] - 0s 653us/step - loss: 0.0905 - accuracy: 0.9802\n",
      "Epoch 120/200\n",
      "81/81 [==============================] - 0s 653us/step - loss: 0.0873 - accuracy: 0.9728\n",
      "Epoch 121/200\n",
      "81/81 [==============================] - 0s 656us/step - loss: 0.1137 - accuracy: 0.9654\n",
      "Epoch 122/200\n",
      "81/81 [==============================] - 0s 663us/step - loss: 0.0849 - accuracy: 0.9753\n",
      "Epoch 123/200\n",
      "81/81 [==============================] - 0s 671us/step - loss: 0.0868 - accuracy: 0.9753\n",
      "Epoch 124/200\n",
      "81/81 [==============================] - 0s 644us/step - loss: 0.1111 - accuracy: 0.9605\n",
      "Epoch 125/200\n",
      "81/81 [==============================] - 0s 661us/step - loss: 0.0839 - accuracy: 0.9679\n",
      "Epoch 126/200\n",
      "81/81 [==============================] - 0s 646us/step - loss: 0.0899 - accuracy: 0.9679\n",
      "Epoch 127/200\n",
      "81/81 [==============================] - 0s 658us/step - loss: 0.0765 - accuracy: 0.9778\n",
      "Epoch 128/200\n",
      "81/81 [==============================] - 0s 639us/step - loss: 0.1078 - accuracy: 0.9704\n",
      "Epoch 129/200\n",
      "81/81 [==============================] - 0s 669us/step - loss: 0.0871 - accuracy: 0.9753\n",
      "Epoch 130/200\n",
      "81/81 [==============================] - 0s 677us/step - loss: 0.0629 - accuracy: 0.9877\n",
      "Epoch 131/200\n",
      "81/81 [==============================] - 0s 657us/step - loss: 0.0889 - accuracy: 0.9753\n",
      "Epoch 132/200\n",
      "81/81 [==============================] - 0s 659us/step - loss: 0.0850 - accuracy: 0.9654\n",
      "Epoch 133/200\n",
      "81/81 [==============================] - 0s 639us/step - loss: 0.0751 - accuracy: 0.9802\n",
      "Epoch 134/200\n",
      "81/81 [==============================] - 0s 640us/step - loss: 0.0946 - accuracy: 0.9679\n",
      "Epoch 135/200\n",
      "81/81 [==============================] - 0s 662us/step - loss: 0.0853 - accuracy: 0.9778\n",
      "Epoch 136/200\n",
      "81/81 [==============================] - 0s 633us/step - loss: 0.0846 - accuracy: 0.9679\n",
      "Epoch 137/200\n",
      "81/81 [==============================] - 0s 639us/step - loss: 0.0708 - accuracy: 0.9802\n",
      "Epoch 138/200\n",
      "81/81 [==============================] - 0s 657us/step - loss: 0.1032 - accuracy: 0.9580\n",
      "Epoch 139/200\n",
      "81/81 [==============================] - 0s 642us/step - loss: 0.0948 - accuracy: 0.9679\n",
      "Epoch 140/200\n",
      "81/81 [==============================] - 0s 643us/step - loss: 0.0586 - accuracy: 0.9827\n",
      "Epoch 141/200\n",
      "81/81 [==============================] - 0s 659us/step - loss: 0.0870 - accuracy: 0.9778\n",
      "Epoch 142/200\n",
      "81/81 [==============================] - 0s 667us/step - loss: 0.1119 - accuracy: 0.9580\n",
      "Epoch 143/200\n",
      "81/81 [==============================] - 0s 676us/step - loss: 0.0845 - accuracy: 0.9654\n",
      "Epoch 144/200\n",
      "81/81 [==============================] - 0s 672us/step - loss: 0.1186 - accuracy: 0.9531\n",
      "Epoch 145/200\n",
      "81/81 [==============================] - 0s 692us/step - loss: 0.1037 - accuracy: 0.9654\n",
      "Epoch 146/200\n",
      "81/81 [==============================] - 0s 697us/step - loss: 0.0720 - accuracy: 0.9753\n",
      "Epoch 147/200\n",
      "81/81 [==============================] - 0s 657us/step - loss: 0.0929 - accuracy: 0.9679\n",
      "Epoch 148/200\n",
      "81/81 [==============================] - 0s 663us/step - loss: 0.0873 - accuracy: 0.9728\n",
      "Epoch 149/200\n",
      "81/81 [==============================] - 0s 673us/step - loss: 0.0903 - accuracy: 0.9654\n",
      "Epoch 150/200\n",
      "81/81 [==============================] - 0s 656us/step - loss: 0.1014 - accuracy: 0.9753\n",
      "Epoch 151/200\n",
      "81/81 [==============================] - 0s 658us/step - loss: 0.0432 - accuracy: 0.9926\n",
      "Epoch 152/200\n",
      "81/81 [==============================] - 0s 646us/step - loss: 0.0986 - accuracy: 0.9654\n",
      "Epoch 153/200\n",
      "81/81 [==============================] - 0s 648us/step - loss: 0.0673 - accuracy: 0.9753\n",
      "Epoch 154/200\n",
      "81/81 [==============================] - 0s 638us/step - loss: 0.1037 - accuracy: 0.9654\n",
      "Epoch 155/200\n",
      "81/81 [==============================] - 0s 637us/step - loss: 0.0783 - accuracy: 0.9778\n",
      "Epoch 156/200\n",
      "81/81 [==============================] - 0s 634us/step - loss: 0.0925 - accuracy: 0.9630\n",
      "Epoch 157/200\n",
      "81/81 [==============================] - 0s 646us/step - loss: 0.0787 - accuracy: 0.9827\n",
      "Epoch 158/200\n",
      "81/81 [==============================] - 0s 665us/step - loss: 0.0948 - accuracy: 0.9728\n",
      "Epoch 159/200\n",
      "81/81 [==============================] - 0s 684us/step - loss: 0.0615 - accuracy: 0.9852\n",
      "Epoch 160/200\n"
     ]
    },
    {
     "name": "stdout",
     "output_type": "stream",
     "text": [
      "81/81 [==============================] - 0s 648us/step - loss: 0.0819 - accuracy: 0.9802\n",
      "Epoch 161/200\n",
      "81/81 [==============================] - 0s 693us/step - loss: 0.0842 - accuracy: 0.9778\n",
      "Epoch 162/200\n",
      "81/81 [==============================] - 0s 651us/step - loss: 0.0863 - accuracy: 0.9679\n",
      "Epoch 163/200\n",
      "81/81 [==============================] - 0s 677us/step - loss: 0.0601 - accuracy: 0.9778\n",
      "Epoch 164/200\n",
      "81/81 [==============================] - 0s 664us/step - loss: 0.0525 - accuracy: 0.9778\n",
      "Epoch 165/200\n",
      "81/81 [==============================] - 0s 634us/step - loss: 0.0612 - accuracy: 0.9802\n",
      "Epoch 166/200\n",
      "81/81 [==============================] - 0s 637us/step - loss: 0.0745 - accuracy: 0.9753\n",
      "Epoch 167/200\n",
      "81/81 [==============================] - 0s 642us/step - loss: 0.0651 - accuracy: 0.9753\n",
      "Epoch 168/200\n",
      "81/81 [==============================] - 0s 675us/step - loss: 0.0814 - accuracy: 0.9630\n",
      "Epoch 169/200\n",
      "81/81 [==============================] - 0s 663us/step - loss: 0.0766 - accuracy: 0.9753\n",
      "Epoch 170/200\n",
      "81/81 [==============================] - 0s 664us/step - loss: 0.0765 - accuracy: 0.9778\n",
      "Epoch 171/200\n",
      "81/81 [==============================] - 0s 644us/step - loss: 0.0574 - accuracy: 0.9852\n",
      "Epoch 172/200\n",
      "81/81 [==============================] - 0s 666us/step - loss: 0.0798 - accuracy: 0.9654\n",
      "Epoch 173/200\n",
      "81/81 [==============================] - 0s 640us/step - loss: 0.0639 - accuracy: 0.9827\n",
      "Epoch 174/200\n",
      "81/81 [==============================] - 0s 622us/step - loss: 0.0598 - accuracy: 0.9827\n",
      "Epoch 175/200\n",
      "81/81 [==============================] - 0s 664us/step - loss: 0.0701 - accuracy: 0.9753\n",
      "Epoch 176/200\n",
      "81/81 [==============================] - 0s 636us/step - loss: 0.0914 - accuracy: 0.9753\n",
      "Epoch 177/200\n",
      "81/81 [==============================] - 0s 642us/step - loss: 0.0736 - accuracy: 0.9728\n",
      "Epoch 178/200\n",
      "81/81 [==============================] - 0s 661us/step - loss: 0.0656 - accuracy: 0.9802\n",
      "Epoch 179/200\n",
      "81/81 [==============================] - 0s 656us/step - loss: 0.0743 - accuracy: 0.9753\n",
      "Epoch 180/200\n",
      "81/81 [==============================] - 0s 666us/step - loss: 0.0786 - accuracy: 0.9679\n",
      "Epoch 181/200\n",
      "81/81 [==============================] - 0s 675us/step - loss: 0.0782 - accuracy: 0.9679\n",
      "Epoch 182/200\n",
      "81/81 [==============================] - 0s 650us/step - loss: 0.0723 - accuracy: 0.9802\n",
      "Epoch 183/200\n",
      "81/81 [==============================] - 0s 671us/step - loss: 0.0728 - accuracy: 0.9704\n",
      "Epoch 184/200\n",
      "81/81 [==============================] - 0s 655us/step - loss: 0.0661 - accuracy: 0.9778\n",
      "Epoch 185/200\n",
      "81/81 [==============================] - 0s 673us/step - loss: 0.0622 - accuracy: 0.9778\n",
      "Epoch 186/200\n",
      "81/81 [==============================] - 0s 657us/step - loss: 0.0683 - accuracy: 0.9827\n",
      "Epoch 187/200\n",
      "81/81 [==============================] - 0s 714us/step - loss: 0.0833 - accuracy: 0.9778\n",
      "Epoch 188/200\n",
      "81/81 [==============================] - 0s 678us/step - loss: 0.0758 - accuracy: 0.9679\n",
      "Epoch 189/200\n",
      "81/81 [==============================] - 0s 684us/step - loss: 0.0840 - accuracy: 0.9704\n",
      "Epoch 190/200\n",
      "81/81 [==============================] - 0s 689us/step - loss: 0.0858 - accuracy: 0.9630\n",
      "Epoch 191/200\n",
      "81/81 [==============================] - 0s 661us/step - loss: 0.0609 - accuracy: 0.9926\n",
      "Epoch 192/200\n",
      "81/81 [==============================] - 0s 645us/step - loss: 0.0705 - accuracy: 0.9728\n",
      "Epoch 193/200\n",
      "81/81 [==============================] - 0s 664us/step - loss: 0.0395 - accuracy: 0.9877\n",
      "Epoch 194/200\n",
      "81/81 [==============================] - 0s 659us/step - loss: 0.0774 - accuracy: 0.9728\n",
      "Epoch 195/200\n",
      "81/81 [==============================] - 0s 713us/step - loss: 0.0683 - accuracy: 0.9753\n",
      "Epoch 196/200\n",
      "81/81 [==============================] - 0s 639us/step - loss: 0.0581 - accuracy: 0.9802\n",
      "Epoch 197/200\n",
      "81/81 [==============================] - 0s 647us/step - loss: 0.0893 - accuracy: 0.9654\n",
      "Epoch 198/200\n",
      "81/81 [==============================] - 0s 635us/step - loss: 0.0478 - accuracy: 0.9852\n",
      "Epoch 199/200\n",
      "81/81 [==============================] - 0s 645us/step - loss: 0.0425 - accuracy: 0.9877\n",
      "Epoch 200/200\n",
      "81/81 [==============================] - 0s 660us/step - loss: 0.0532 - accuracy: 0.9852\n",
      "model created\n"
     ]
    }
   ],
   "source": [
    "#fitting and saving the model \n",
    "hist = model.fit(np.array(train_x), np.array(train_y), epochs=200, batch_size=5, verbose=1)\n",
    "model.save('chatbot_model.h5', hist)\n",
    "\n",
    "print(\"model created\")\n"
   ]
  },
  {
   "cell_type": "markdown",
   "metadata": {},
   "source": [
    "# FOR PREDICTING RESPONSE\n",
    "### **You have to add or run this below script by loading model**"
   ]
  },
  {
   "cell_type": "markdown",
   "metadata": {},
   "source": [
    "### **For loading saved model**\n",
    "//\n",
    "from keras.models import load_model\n",
    "\n",
    "model = load_model('chatbot_model.h5')\n",
    "//\n",
    "### **Predict the response**\n",
    "To predict the sentences and get a response from the user to let us create a new file ‘chatapp.py’.\n",
    "- We will load the trained model and then use a graphical user interface that will predict the response from the bot. The model will only tell us the class it belongs to, so we will implement some functions which will identify the class and then retrieve us a random response from the list of responses.\n",
    "- Again we import the necessary packages and load the ‘words.pkl’ and ‘classes.pkl’ pickle files which we have created when we trained our model.\n",
    "\n",
    "//---\n",
    "\n",
    "intents = json.loads(open('/kaggle/input/chatbot-dataset/intents.json').read())\n",
    "\n",
    "words = pickle.load(open('words.pkl','rb'))\n",
    "\n",
    "classes = pickle.load(open('classes.pkl','rb'))\n",
    "\n",
    "//---\n",
    "\n",
    "**To predict the class, we will need to provide input in the same way as we did while training. So we will create some functions that will perform text preprocessing and then predict the class**\n",
    "\n",
    "//----\n",
    "\n",
    "#Utility Methods\n",
    "\n",
    "def clean_up_sentence(sentence):\n",
    "    # tokenize the pattern - split words into array\n",
    "    \n",
    "    sentence_words = nltk.word_tokenize(sentence)\n",
    "    #print(sentence_words)\n",
    "    # stem each word - create short form for word\n",
    "    \n",
    "    sentence_words = [lemmatizer.lemmatize(word.lower()) for word in sentence_words]\n",
    "    #print(sentence_words)\n",
    "    \n",
    "    return sentence_words\n",
    "#return bag of words array: 0 or 1 for each word in the bag that exists in the sentence\n",
    "\n",
    "def bow(sentence, words, show_details=True):\n",
    "    # tokenize the pattern\n",
    "    \n",
    "    sentence_words = clean_up_sentence(sentence)\n",
    "    #print(sentence_words)\n",
    "    \n",
    "    # bag of words - matrix of N words, vocabulary matrix\n",
    "    \n",
    "    bag = [0]*len(words) \n",
    "    #print(bag)\n",
    "    \n",
    "    for s in sentence_words:  \n",
    "        for i,w in enumerate(words):\n",
    "            if w == s: \n",
    "                # assign 1 if current word is in the vocabulary position\n",
    "                bag[i] = 1\n",
    "                if show_details:\n",
    "                    print (\"found in bag: %s\" % w)\n",
    "                #print (\"found in bag: %s\" % w)\n",
    "    #print(bag)\n",
    "    return(np.array(bag))\n",
    "    \n",
    "def predict_class(sentence, model):\n",
    "    # filter out predictions below a threshold\n",
    "    \n",
    "    p = bow(sentence, words,show_details=False)\n",
    "    #print(p)\n",
    "    \n",
    "    res = model.predict(np.array([p]))[0]\n",
    "    #print(res)\n",
    "    \n",
    "    ERROR_THRESHOLD = 0.25\n",
    "    \n",
    "    results = [[i,r] for i,r in enumerate(res) if r>ERROR_THRESHOLD]\n",
    "    #print(results)\n",
    "    # sort by strength of probability\n",
    "    \n",
    "    results.sort(key=lambda x: x[1], reverse=True)\n",
    "    #print(results)\n",
    "    \n",
    "    return_list = []\n",
    "    \n",
    "    for r in results:\n",
    "        return_list.append({\"intent\": classes[r[0]], \"probability\": str(r[1])})\n",
    "    \n",
    "    return return_list\n",
    "    #print(return_list)\n",
    "\n",
    "//----\n",
    "\n",
    "**After predicting the class, we will get a random response from the list of intents:**\n",
    "\n",
    "//----\n",
    "\n",
    "def getResponse(ints, intents_json):\n",
    "    \n",
    "    tag = ints[0]['intent']\n",
    "    #print(tag)\n",
    "    \n",
    "    list_of_intents = intents_json['intents']\n",
    "    #print(list_of_intents)\n",
    "    \n",
    "    for i in list_of_intents:\n",
    "        if(i['tag']== tag):\n",
    "            result = random.choice(i['responses'])\n",
    "            break\n",
    "    return result\n",
    "    \n",
    "def chatbot_response(text):\n",
    "    ints = predict_class(text, model)\n",
    "    #print(ints)\n",
    "    \n",
    "    res = getResponse(ints, intents)\n",
    "    #print(res)\n",
    "    return res\n",
    "    \n",
    "//---  \n",
    "**Enter you queries**   \n",
    "//----   \n",
    "start = True\n",
    "\n",
    "while start:\n",
    "\n",
    "    query = input('Enter Message:')\n",
    "    if query in ['quit','exit','bye']:\n",
    "        start = False\n",
    "        continue\n",
    "    try:\n",
    "        res = chatbot_response(query)\n",
    "        print(res)\n",
    "    except:\n",
    "        print('You may need to rephrase your question.')\n",
    "//-----"
   ]
  },
  {
   "cell_type": "code",
   "execution_count": 16,
   "metadata": {},
   "outputs": [],
   "source": [
    "from keras.models import load_model\n",
    "\n",
    "model = load_model('chatbot_model.h5') "
   ]
  },
  {
   "cell_type": "code",
   "execution_count": 20,
   "metadata": {},
   "outputs": [],
   "source": [
    "\n",
    "\n",
    "intents = json.loads(open('intents.json').read())\n",
    "\n",
    "words = pickle.load(open('words.pkl','rb'))\n",
    "\n",
    "classes = pickle.load(open('classes.pkl','rb'))\n",
    "\n"
   ]
  },
  {
   "cell_type": "code",
   "execution_count": 25,
   "metadata": {},
   "outputs": [],
   "source": [
    "#Utility Methods\n",
    "\n",
    "def clean_up_sentence(sentence): \n",
    "    # tokenize the pattern - split words into array\n",
    "    sentence_words = nltk.word_tokenize(sentence)\n",
    "    # stem each word - create short form for word\n",
    "    sentence_words = [lemmatizer.lemmatize(word.lower()) for word in sentence_words]\n",
    "    return sentence_words\n",
    "    #return bag of words array: 0 or 1 for each word in the bag that exists in the sentence\n",
    "\n",
    "def bow(sentence, words, show_details=True): \n",
    "    # tokenize the pattern\n",
    "    sentence_words = clean_up_sentence(sentence)\n",
    "    # bag of words - matrix of N words, vocabulary matrix\n",
    "    bag = [0]*len(words) \n",
    "    for s in sentence_words:  \n",
    "        for i,w in enumerate(words):\n",
    "            if w == s: \n",
    "                # assign 1 if current word is in the vocabulary position\n",
    "                bag[i] = 1\n",
    "                if show_details:\n",
    "                    print (\"found in bag: %s\" % w)\n",
    "    return(np.array(bag))\n",
    "\n",
    "def predict_class(sentence, model): \n",
    "    # filter out predictions below a threshold\n",
    "    p = bow(sentence, words,show_details=False)\n",
    "    res = model.predict(np.array([p]))[0]\n",
    "    ERROR_THRESHOLD = 0.25\n",
    "    results = [[i,r] for i,r in enumerate(res) if r>ERROR_THRESHOLD]\n",
    "    # sort by strength of probability\n",
    "    results.sort(key=lambda x: x[1], reverse=True)\n",
    "    return_list = []\n",
    "    for r in results:\n",
    "        return_list.append({\"intent\": classes[r[0]], \"probability\": str(r[1])})\n",
    "    return return_list\n"
   ]
  },
  {
   "cell_type": "code",
   "execution_count": 27,
   "metadata": {},
   "outputs": [],
   "source": [
    "def getResponse(ints, intents_json):\n",
    "    tag = ints[0]['intent']\n",
    "    #print(tag)\n",
    "    list_of_intents = intents_json['intents']\n",
    "    #print(list_of_intents)\n",
    "    for i in list_of_intents:\n",
    "        if(i['tag']== tag):\n",
    "            result = random.choice(i['responses'])\n",
    "            break\n",
    "    return result\n",
    "\n",
    "def chatbot_response(text): \n",
    "    ints = predict_class(text, model) \n",
    "    #print(ints)\n",
    "    res = getResponse(ints, intents)\n",
    "    #print(res)\n",
    "    return res\n"
   ]
  },
  {
   "cell_type": "code",
   "execution_count": null,
   "metadata": {},
   "outputs": [
    {
     "name": "stdout",
     "output_type": "stream",
     "text": [
      "Enter Message:hi\n",
      "1/1 [==============================] - 0s 191ms/step\n",
      "Hello!\n",
      "Enter Message:what a are u doing\n",
      "1/1 [==============================] - 0s 12ms/step\n",
      "I am a Chatbot.\n"
     ]
    }
   ],
   "source": [
    "start = True\n",
    "\n",
    "while start:\n",
    "    query = input('Enter Message:')\n",
    "    if query in ['quit','exit','bye']:\n",
    "        start = False\n",
    "        continue\n",
    "    try:\n",
    "        res = chatbot_response(query)\n",
    "        print(res)\n",
    "    except:\n",
    "        print('You may need to rephrase your question.')"
   ]
  },
  {
   "cell_type": "code",
   "execution_count": null,
   "metadata": {},
   "outputs": [],
   "source": []
  }
 ],
 "metadata": {
  "kernelspec": {
   "display_name": "Python 3 (ipykernel)",
   "language": "python",
   "name": "python3"
  },
  "language_info": {
   "codemirror_mode": {
    "name": "ipython",
    "version": 3
   },
   "file_extension": ".py",
   "mimetype": "text/x-python",
   "name": "python",
   "nbconvert_exporter": "python",
   "pygments_lexer": "ipython3",
   "version": "3.9.7"
  }
 },
 "nbformat": 4,
 "nbformat_minor": 4
}
